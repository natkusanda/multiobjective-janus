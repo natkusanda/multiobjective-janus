{
 "cells": [
  {
   "cell_type": "code",
   "execution_count": 3,
   "id": "469bb1c0",
   "metadata": {},
   "outputs": [],
   "source": [
    "from rdkit import Chem, RDLogger\n",
    "from rdkit.Chem import AllChem, RDConfig, Descriptors, rdChemReactions\n",
    "RDLogger.DisableLog(\"rdApp.*\")\n",
    "\n",
    "import pandas as pd\n",
    "import numpy as np\n",
    "from pathlib import Path\n",
    "\n",
    "# SAScore, LogP, cycles, QED import\n",
    "from rdkit.Chem.Crippen import MolLogP, MolMR\n",
    "#from SAS_calculator.sascorer import calculateScore\n",
    "from rdkit.Chem.Descriptors import qed\n",
    "import networkx as nx\n",
    "\n",
    "import olympus\n",
    "from olympus.utils.misc import get_hypervolume, get_pareto, get_pareto_set\n",
    "#from janus_olympus import create_value_space, create_scalarizer, scalarize_and_sort\n",
    "import plotly.express as px\n",
    "import plotly.graph_objects as go\n",
    "import matplotlib.pyplot as plt\n",
    "from tqdm import tqdm"
   ]
  },
  {
   "cell_type": "code",
   "execution_count": 4,
   "id": "968059a7",
   "metadata": {},
   "outputs": [],
   "source": [
    "def top_min_all(optim_type):\n",
    "    pwd = \"/Users/nkusanda/Desktop/RESEARCH/olympus-ai4mat/DATA_3opt/RESULTS_\"\n",
    "    min_distances = []\n",
    "\n",
    "    min_qed = []\n",
    "    min_logp = []\n",
    "    min_sas = []\n",
    "    min_dist = []\n",
    "    min_smi = []\n",
    "\n",
    "    for i in tqdm(range(1,6)):\n",
    "        \n",
    "        if i == 1:\n",
    "            df = pd.read_csv(pwd + optim_type + \"/smiles_collector.csv\")\n",
    "        else:\n",
    "            df = pd.read_csv(pwd + optim_type + str(i) + \"/smiles_collector.csv\")\n",
    "\n",
    "\n",
    "        smiles = list(df['smi'])\n",
    "        logp = list(df['logp'])\n",
    "        qed = list(df['qed'])\n",
    "        sas = list(df['sas'])\n",
    "\n",
    "        data = np.column_stack((qed,logp,sas))\n",
    "        utopia = np.array([0.6,10,0.5])\n",
    "        dist_1 = (utopia[0] - data[:,0]) / utopia[0]\n",
    "        dist_2 = (utopia[1] - data[:,1]) / utopia[1]\n",
    "        dist_3 = (utopia[2] - data[:,2]) / utopia[2]\n",
    "\n",
    "        dist_1 = np.array([dist_1[i] if dist_1[i]>0 else 0 for i in range(len(dist_1))])\n",
    "        dist_2 = np.array([dist_2[i] if dist_2[i]>0 else 0 for i in range(len(dist_2))])\n",
    "        dist_3 = np.array([dist_3[i] if dist_3[i]<0 else 0 for i in range(len(dist_3))])\n",
    "\n",
    "        all_dist = np.sqrt(dist_1 ** 2 + dist_2 ** 2 + dist_3 ** 2)\n",
    "\n",
    "        sort_by_dist_idx = np.argsort(all_dist)\n",
    "        #print(sort_by_dist_idx)\n",
    "        sort_qed = np.array(qed)[sort_by_dist_idx]\n",
    "        sort_logp = np.array(logp)[sort_by_dist_idx]\n",
    "        sort_sas = np.array(sas)[sort_by_dist_idx]\n",
    "        sort_dist = np.array(all_dist)[sort_by_dist_idx]\n",
    "        sort_smi = np.array(smiles)[sort_by_dist_idx]\n",
    "\n",
    "        min_qed.extend(list(sort_qed[:10]))\n",
    "        min_logp.extend(list(sort_logp[:10]))\n",
    "        min_sas.extend(list(sort_sas[:10]))\n",
    "        min_dist.extend(list(sort_dist[:10]))\n",
    "        min_smi.extend(list(sort_smi[:10]))\n",
    "    \n",
    "    final_sort_idx = np.argsort(min_dist)\n",
    "    top_qed = np.array(min_qed)[final_sort_idx]\n",
    "    top_logp = np.array(min_logp)[final_sort_idx]\n",
    "    top_sas = np.array(min_sas)[final_sort_idx]\n",
    "    top_dist = np.array(min_dist)[final_sort_idx]\n",
    "    top_smi = np.array(min_smi)[final_sort_idx]\n",
    "    #print(top_dist)\n",
    "\n",
    "    return top_qed[:30], top_logp[:30], top_sas[:30], top_dist[:30], top_smi[:30]"
   ]
  },
  {
   "cell_type": "code",
   "execution_count": 6,
   "id": "3fb4ffaa",
   "metadata": {},
   "outputs": [],
   "source": [
    "def top_zinc_pareto_points():\n",
    "    pwd = \"/Users/nkusanda/Desktop/RESEARCH/olympus-ai4mat/DATA_3opt/\"\n",
    "    min_distances = []\n",
    "\n",
    "    min_qed = []\n",
    "    min_logp = []\n",
    "    min_sas = []\n",
    "    min_dist = []\n",
    "    min_smi = []\n",
    "\n",
    "    df = pd.read_csv(pwd + \"zinc_pareto_tagged_logp_qed.csv\")\n",
    "\n",
    "\n",
    "    smiles = list(df['smiles'])\n",
    "    logp = list(df['logP'])\n",
    "    qed = list(df['qed'])\n",
    "    sas = list(df['SAS'])\n",
    "    pareto = list(df['pareto'])\n",
    "\n",
    "    qed_pareto = [qed[i] for i in range(len(smiles)) if pareto[i] == 1]\n",
    "    logp_pareto = [logp[i] for i in range(len(smiles)) if pareto[i] == 1]\n",
    "    sas_pareto = [sas[i] for i in range(len(smiles)) if pareto[i] == 1]\n",
    "    smiles_pareto = [smiles[i] for i in range(len(smiles)) if pareto[i] == 1]\n",
    "\n",
    "    data = np.column_stack((qed_pareto,logp_pareto,sas_pareto))\n",
    "    utopia = np.array([0.6,10,0.5])\n",
    "    dist_1 = (utopia[0] - data[:,0]) / utopia[0]\n",
    "    dist_2 = (utopia[1] - data[:,1]) / utopia[1]\n",
    "    dist_3 = (utopia[2] - data[:,2]) / utopia[2]\n",
    "\n",
    "    dist_1 = np.array([dist_1[i] if dist_1[i]>0 else 0 for i in range(len(dist_1))])\n",
    "    dist_2 = np.array([dist_2[i] if dist_2[i]>0 else 0 for i in range(len(dist_2))])\n",
    "    dist_3 = np.array([dist_3[i] if dist_3[i]<0 else 0 for i in range(len(dist_3))])\n",
    "\n",
    "    all_dist = np.sqrt(dist_1 ** 2 + dist_2 ** 2 + dist_3 ** 2)\n",
    "\n",
    "    sort_by_dist_idx = np.argsort(all_dist)\n",
    "    #print(sort_by_dist_idx)\n",
    "    sort_qed = np.array(qed_pareto)[sort_by_dist_idx]\n",
    "    sort_logp = np.array(logp_pareto)[sort_by_dist_idx]\n",
    "    sort_sas = np.array(sas_pareto)[sort_by_dist_idx]\n",
    "    sort_dist = np.array(all_dist)[sort_by_dist_idx]\n",
    "    sort_smi = np.array(smiles_pareto)[sort_by_dist_idx]\n",
    "\n",
    "    min_qed.extend(list(sort_qed[:30]))\n",
    "    min_logp.extend(list(sort_logp[:30]))\n",
    "    min_sas.extend(list(sort_sas[:30]))\n",
    "    min_dist.extend(list(sort_dist[:30]))\n",
    "    min_smi.extend(list(sort_smi[:30]))\n",
    "    \n",
    "\n",
    "    return min_qed,min_logp,min_sas,min_dist,min_smi"
   ]
  },
  {
   "cell_type": "code",
   "execution_count": 7,
   "id": "2911ed06",
   "metadata": {},
   "outputs": [
    {
     "name": "stderr",
     "output_type": "stream",
     "text": [
      "100%|██████████████████████████████████████████████████████████████████████████████████████████████████| 5/5 [00:00<00:00,  9.38it/s]\n",
      "100%|██████████████████████████████████████████████████████████████████████████████████████████████████| 5/5 [00:00<00:00, 11.47it/s]\n",
      "100%|██████████████████████████████████████████████████████████████████████████████████████████████████| 5/5 [00:00<00:00, 11.05it/s]\n",
      "100%|██████████████████████████████████████████████████████████████████████████████████████████████████| 5/5 [00:00<00:00, 11.39it/s]\n"
     ]
    }
   ],
   "source": [
    "# %%\n",
    "chim_three = np.empty((4,30))\n",
    "chim_three[0],chim_three[1],chim_three[2],chim_three[3],chim_smiles = top_min_all('chimera')\n",
    "# %%\n",
    "ctrl_three = np.empty((4,30))\n",
    "ctrl_three[0],ctrl_three[1],ctrl_three[2],ctrl_three[3],ctrl_smiles = top_min_all('ctrl')\n",
    "# %%\n",
    "random_three = np.empty((4,30))\n",
    "random_three[0],random_three[1],random_three[2],random_three[3],rand_smiles = top_min_all('random')\n",
    "# %%\n",
    "hv_three = np.empty((4,30))\n",
    "hv_three[0],hv_three[1],hv_three[2],hv_three[3],hv_smiles = top_min_all('hv')\n",
    "# %%\n",
    "zinc_pareto = np.empty((4,30))\n",
    "zinc_pareto[0],zinc_pareto[1],zinc_pareto[2],zinc_pareto[3],zinc_smi = top_zinc_pareto_points()"
   ]
  },
  {
   "cell_type": "markdown",
   "id": "76edbc86",
   "metadata": {},
   "source": [
    "### Blue: WeightedSum\n",
    "### Orange: Random\n",
    "### Green: Chimera\n",
    "### Red: Hypervolume\n",
    "### Purple: Zinc"
   ]
  },
  {
   "cell_type": "code",
   "execution_count": null,
   "id": "8e8ce0d5",
   "metadata": {},
   "outputs": [],
   "source": [
    "import plotly.graph_objects as go\n",
    "fig = go.Figure(data=[go.Mesh3d(x=ctrl_three[0], y=ctrl_three[1], z=ctrl_three[2], color='#1f77b4', opacity=0.50)])\n",
    "fig.add_trace(go.Mesh3d(x=random_three[0], y=random_three[1], z=random_three[2], color='#ff7f0e', opacity=0.50))\n",
    "fig.add_trace(go.Mesh3d(x=chim_three[0], y=chim_three[1], z=chim_three[2], color='#2ca02c', opacity=0.50))\n",
    "fig.add_trace(go.Mesh3d(x=hv_three[0], y=hv_three[1], z=hv_three[2], color='#d62728', opacity=0.50))\n",
    "fig.add_trace(go.Mesh3d(x=zinc_pareto[0], y=zinc_pareto[1], z=zinc_pareto[2], color='#9467bd', opacity=0.50))\n",
    "\n",
    "fig.update_layout(scene = dict(\n",
    "                    xaxis_title='logp',\n",
    "                    yaxis_title='qed',\n",
    "                    zaxis_title='sas'),\n",
    "                    width=700,\n",
    "                    margin=dict(r=20, b=10, l=10, t=10))\n",
    "#fig.add_trace(go.Mesh3d(x=[0.6], y=[10], z=[0.5], color='#8c564b', opacity=0.50))\n",
    "\n",
    "fig.show()"
   ]
  },
  {
   "cell_type": "code",
   "execution_count": 10,
   "id": "8c112204",
   "metadata": {},
   "outputs": [
    {
     "data": {
      "application/vnd.plotly.v1+json": {
       "config": {
        "plotlyServerURL": "https://plot.ly"
       },
       "data": [
        {
         "hovertemplate": "type=WeightedSum<br>logp=%{x}<br>qed=%{y}<br>sas=%{z}<extra></extra>",
         "legendgroup": "WeightedSum",
         "marker": {
          "color": "#636efa",
          "opacity": 1,
          "symbol": "circle"
         },
         "mode": "markers",
         "name": "WeightedSum",
         "scene": "scene",
         "showlegend": true,
         "type": "scatter3d",
         "x": [
          3.120800000000002,
          2.249000000000001,
          2.249000000000001,
          2.34,
          2.34,
          2.34,
          2.730700000000001,
          2.3406,
          1.8257,
          1.9505,
          1.9505,
          6.487600000000007,
          2.30344,
          2.30344,
          4.007000000000002,
          1.5604,
          1.5604,
          5.707400000000006,
          5.707400000000006,
          2.639100000000001,
          3.029200000000001,
          1.8892,
          4.537100000000004,
          4.537100000000004,
          3.809400000000003,
          3.492700000000002,
          3.9308000000000014,
          2.13412,
          2.13412,
          2.13412
         ],
         "y": [
          0.4513755246594791,
          0.5147578217927745,
          0.5147578217927745,
          0.4833833263681997,
          0.4833833263681997,
          0.4833833263681997,
          0.4085406794096017,
          0.4223161868609467,
          0.4618403302914614,
          0.4083619292230275,
          0.4083619292230275,
          0.3149047241460033,
          0.475757685340321,
          0.475757685340321,
          0.6346172430604238,
          0.3948102303487917,
          0.3948102303487917,
          0.3731035838174364,
          0.3731035838174364,
          0.5624916701881997,
          0.595730956091163,
          0.5170467542625542,
          0.4526177505443085,
          0.4526177505443085,
          0.5774504107669273,
          0.6172445494970528,
          0.6924273342516304,
          0.4796017536231644,
          0.4796017536231644,
          0.4796017536231644
         ],
         "z": [
          1,
          1,
          1,
          1,
          1,
          1,
          1,
          1,
          1,
          1,
          1,
          1.0945154774355943,
          1.0337432953498862,
          1.0337432953498862,
          1.0954863087132818,
          1,
          1,
          1.1247158094291532,
          1.1247158094291532,
          1.080414397758101,
          1.1049531863041595,
          1.0971092379947898,
          1.1945998623963092,
          1.1945998623963092,
          1.2094738691001456,
          1.2037814504136843,
          1.215091467493263,
          1.192665672972261,
          1.192665672972261,
          1.192665672972261
         ]
        },
        {
         "hovertemplate": "type=Random<br>logp=%{x}<br>qed=%{y}<br>sas=%{z}<extra></extra>",
         "legendgroup": "Random",
         "marker": {
          "color": "#EF553B",
          "opacity": 1,
          "symbol": "circle"
         },
         "mode": "markers",
         "name": "Random",
         "scene": "scene",
         "showlegend": true,
         "type": "scatter3d",
         "x": [
          3.9010000000000034,
          3.510900000000002,
          3.510900000000002,
          3.120800000000002,
          2.249000000000001,
          2.249000000000001,
          2.249000000000001,
          2.34,
          2.34,
          2.34,
          2.34,
          2.3406,
          2.3406,
          2.3406,
          1.99502,
          1.99502,
          1.99502,
          7.267800000000007,
          1.6952,
          1.8257,
          1.8257,
          1.8257,
          6.877700000000007,
          6.877700000000007,
          1.9505,
          1.9505,
          1.6866,
          1.6866,
          6.487600000000007,
          6.487600000000007
         ],
         "y": [
          0.4784283369608236,
          0.4656551922109892,
          0.4656551922109892,
          0.4513755246594791,
          0.5147578217927745,
          0.5147578217927745,
          0.5147578217927745,
          0.4833833263681997,
          0.4833833263681997,
          0.4833833263681997,
          0.4833833263681997,
          0.4223161868609467,
          0.4223161868609467,
          0.4223161868609467,
          0.4588062796575454,
          0.4588062796575454,
          0.4588062796575454,
          0.2695410264515143,
          0.5316253154127668,
          0.4618403302914614,
          0.4618403302914614,
          0.4618403302914614,
          0.2903171596080645,
          0.2903171596080645,
          0.4083619292230275,
          0.4083619292230275,
          0.4426283718993647,
          0.4426283718993647,
          0.3149047241460033,
          0.3149047241460033
         ],
         "z": [
          1,
          1,
          1,
          1,
          1,
          1,
          1,
          1,
          1,
          1,
          1,
          1,
          1,
          1,
          1,
          1,
          1,
          1.0745702467178884,
          1,
          1,
          1,
          1,
          1.08338186465377,
          1.08338186465377,
          1,
          1,
          1,
          1,
          1.0945154774355943,
          1.0945154774355943
         ]
        },
        {
         "hovertemplate": "type=Chimera<br>logp=%{x}<br>qed=%{y}<br>sas=%{z}<extra></extra>",
         "legendgroup": "Chimera",
         "marker": {
          "color": "#00cc96",
          "opacity": 1,
          "symbol": "circle"
         },
         "mode": "markers",
         "name": "Chimera",
         "scene": "scene",
         "showlegend": true,
         "type": "scatter3d",
         "x": [
          6.631700000000007,
          5.851500000000006,
          5.461400000000006,
          3.510900000000002,
          3.510900000000002,
          3.120800000000002,
          3.120800000000002,
          2.249000000000001,
          2.34,
          2.34,
          2.34,
          2.34,
          2.34,
          2.730700000000001,
          7.657900000000008,
          1.99502,
          7.267800000000007,
          1.8257,
          1.8257,
          9.608399999999998,
          1.9505,
          6.487600000000007,
          6.097500000000006,
          1.5604,
          1.5604,
          5.707400000000006,
          3.029200000000001,
          5.317300000000005,
          5.317300000000005,
          5.317300000000005
         ],
         "y": [
          0.4439671311017442,
          0.4701222388823993,
          0.4822645994353039,
          0.4656551922109892,
          0.4656551922109892,
          0.4513755246594791,
          0.4513755246594791,
          0.5147578217927745,
          0.4833833263681997,
          0.4833833263681997,
          0.4833833263681997,
          0.4833833263681997,
          0.4833833263681997,
          0.4085406794096017,
          0.2520053119130528,
          0.4588062796575454,
          0.2695410264515143,
          0.4618403302914614,
          0.4618403302914614,
          0.1826494365002578,
          0.4083619292230275,
          0.3149047241460033,
          0.3429502160022288,
          0.3948102303487917,
          0.3948102303487917,
          0.3731035838174364,
          0.595730956091163,
          0.4031688486987215,
          0.4031688486987215,
          0.4031688486987215
         ],
         "z": [
          1,
          1,
          1,
          1,
          1,
          1,
          1,
          1,
          1,
          1,
          1,
          1,
          1,
          1,
          1.0678786896002244,
          1,
          1.0745702467178884,
          1,
          1,
          1.0607451755714372,
          1,
          1.0945154774355943,
          1.1082036891143652,
          1,
          1,
          1.1247158094291532,
          1.1049531863041595,
          1.144365108313803,
          1.144365108313803,
          1.144365108313803
         ]
        },
        {
         "hovertemplate": "type=Hypervolume<br>logp=%{x}<br>qed=%{y}<br>sas=%{z}<extra></extra>",
         "legendgroup": "Hypervolume",
         "marker": {
          "color": "#ab63fa",
          "opacity": 1,
          "symbol": "circle"
         },
         "mode": "markers",
         "name": "Hypervolume",
         "scene": "scene",
         "showlegend": true,
         "type": "scatter3d",
         "x": [
          4.291100000000004,
          4.478000000000003,
          3.4718000000000018,
          4.660400000000002,
          4.660400000000002,
          2.249000000000001,
          2.249000000000001,
          2.249000000000001,
          2.34,
          2.34,
          2.34,
          2.34,
          1.99502,
          1.99502,
          1.99502,
          1.99502,
          1.6952,
          2.6484200000000007,
          2.6484200000000007,
          2.6484200000000007,
          1.8257,
          1.8257,
          1.8257,
          1.6866,
          2.30344,
          4.007000000000002,
          4.007000000000002,
          2.3486,
          2.3486,
          2.3486
         ],
         "y": [
          0.4879788266128645,
          0.6450664913328847,
          0.6814602021498524,
          0.658951175302544,
          0.658951175302544,
          0.5147578217927745,
          0.5147578217927745,
          0.5147578217927745,
          0.4833833263681997,
          0.4833833263681997,
          0.4833833263681997,
          0.4833833263681997,
          0.4588062796575454,
          0.4588062796575454,
          0.4588062796575454,
          0.4588062796575454,
          0.5316253154127668,
          0.5015016660067645,
          0.5015016660067645,
          0.5015016660067645,
          0.4618403302914614,
          0.4618403302914614,
          0.4618403302914614,
          0.4426283718993647,
          0.475757685340321,
          0.6346172430604238,
          0.6346172430604238,
          0.5850627747795067,
          0.5850627747795067,
          0.5850627747795067
         ],
         "z": [
          1,
          1.0389840613344568,
          1.014182862295245,
          1.0529260848189068,
          1.0529260848189068,
          1,
          1,
          1,
          1,
          1,
          1,
          1,
          1,
          1,
          1,
          1,
          1,
          1.033862875769465,
          1.033862875769465,
          1.033862875769465,
          1,
          1,
          1,
          1,
          1.0337432953498862,
          1.0954863087132818,
          1.0954863087132818,
          1.0490464687640184,
          1.0490464687640184,
          1.0490464687640184
         ]
        },
        {
         "hovertemplate": "type=Utopian point<br>logp=%{x}<br>qed=%{y}<br>sas=%{z}<extra></extra>",
         "legendgroup": "Utopian point",
         "marker": {
          "color": "#FFA15A",
          "opacity": 1,
          "symbol": "circle"
         },
         "mode": "markers",
         "name": "Utopian point",
         "scene": "scene",
         "showlegend": true,
         "type": "scatter3d",
         "x": [
          10
         ],
         "y": [
          0.6
         ],
         "z": [
          0.5
         ]
        },
        {
         "hovertemplate": "type=Zinc<br>logp=%{x}<br>qed=%{y}<br>sas=%{z}<extra></extra>",
         "legendgroup": "Zinc",
         "marker": {
          "color": "#19d3f3",
          "opacity": 1,
          "symbol": "circle"
         },
         "mode": "markers",
         "name": "Zinc",
         "scene": "scene",
         "showlegend": true,
         "type": "scatter3d",
         "x": [
          4.252,
          3.0780000000000003,
          3.4034,
          3.5189,
          3.63902,
          3.4388,
          3.0866,
          3.71,
          3.6009,
          3.984,
          2.9561,
          4.8934,
          4.00662,
          3.9113,
          4.1699,
          4.4519,
          4.2414,
          3.9234,
          3.9577,
          4.7398,
          3.9926,
          4.0709,
          5.039619999999998,
          4.1264,
          4.11452,
          4.2091400000000005,
          4.2638,
          4.4908,
          3.90932,
          4.8991
         ],
         "y": [
          0.620865231506,
          0.809129509593,
          0.7165877827079999,
          0.636107590257,
          0.7849617925319999,
          0.800070636581,
          0.890869361991,
          0.912217856344,
          0.8937013620700001,
          0.797875017056,
          0.906985139765,
          0.611654327689,
          0.675134933203,
          0.8567875264899999,
          0.7064846767149999,
          0.673864232604,
          0.741751445405,
          0.8762250285780001,
          0.8445297314899999,
          0.706001852293,
          0.859080835446,
          0.8746726911480001,
          0.7029017415909999,
          0.752299181753,
          0.767402957624,
          0.8259282395280001,
          0.8648175406,
          0.735280403311,
          0.8916817014280001,
          0.803335264047
         ],
         "z": [
          1.1327382804544328,
          1.2235581743449906,
          1.2530808111116087,
          1.2958021948919995,
          1.3013573196741497,
          1.321876475447274,
          1.3201303581186128,
          1.3350000413765295,
          1.3333819418290194,
          1.3458684656710105,
          1.3320694563450302,
          1.391242600331978,
          1.3776111972251712,
          1.3776914614948732,
          1.395841724753396,
          1.4033949131714003,
          1.4019909046414814,
          1.3987656522362588,
          1.4290686822763323,
          1.443018298495513,
          1.4337361230116965,
          1.448642993193635,
          1.4652853527671734,
          1.453620060483459,
          1.4613339780281152,
          1.4691028106073,
          1.4739584124172538,
          1.4882260014175248,
          1.4802367519425133,
          1.4948594259919157
         ]
        }
       ],
       "layout": {
        "legend": {
         "title": {
          "text": "type"
         },
         "tracegroupgap": 0
        },
        "margin": {
         "t": 60
        },
        "scene": {
         "domain": {
          "x": [
           0,
           1
          ],
          "y": [
           0,
           1
          ]
         },
         "xaxis": {
          "title": {
           "text": "logp"
          }
         },
         "yaxis": {
          "title": {
           "text": "qed"
          }
         },
         "zaxis": {
          "title": {
           "text": "sas"
          }
         }
        },
        "template": {
         "data": {
          "bar": [
           {
            "error_x": {
             "color": "#2a3f5f"
            },
            "error_y": {
             "color": "#2a3f5f"
            },
            "marker": {
             "line": {
              "color": "#E5ECF6",
              "width": 0.5
             },
             "pattern": {
              "fillmode": "overlay",
              "size": 10,
              "solidity": 0.2
             }
            },
            "type": "bar"
           }
          ],
          "barpolar": [
           {
            "marker": {
             "line": {
              "color": "#E5ECF6",
              "width": 0.5
             },
             "pattern": {
              "fillmode": "overlay",
              "size": 10,
              "solidity": 0.2
             }
            },
            "type": "barpolar"
           }
          ],
          "carpet": [
           {
            "aaxis": {
             "endlinecolor": "#2a3f5f",
             "gridcolor": "white",
             "linecolor": "white",
             "minorgridcolor": "white",
             "startlinecolor": "#2a3f5f"
            },
            "baxis": {
             "endlinecolor": "#2a3f5f",
             "gridcolor": "white",
             "linecolor": "white",
             "minorgridcolor": "white",
             "startlinecolor": "#2a3f5f"
            },
            "type": "carpet"
           }
          ],
          "choropleth": [
           {
            "colorbar": {
             "outlinewidth": 0,
             "ticks": ""
            },
            "type": "choropleth"
           }
          ],
          "contour": [
           {
            "colorbar": {
             "outlinewidth": 0,
             "ticks": ""
            },
            "colorscale": [
             [
              0,
              "#0d0887"
             ],
             [
              0.1111111111111111,
              "#46039f"
             ],
             [
              0.2222222222222222,
              "#7201a8"
             ],
             [
              0.3333333333333333,
              "#9c179e"
             ],
             [
              0.4444444444444444,
              "#bd3786"
             ],
             [
              0.5555555555555556,
              "#d8576b"
             ],
             [
              0.6666666666666666,
              "#ed7953"
             ],
             [
              0.7777777777777778,
              "#fb9f3a"
             ],
             [
              0.8888888888888888,
              "#fdca26"
             ],
             [
              1,
              "#f0f921"
             ]
            ],
            "type": "contour"
           }
          ],
          "contourcarpet": [
           {
            "colorbar": {
             "outlinewidth": 0,
             "ticks": ""
            },
            "type": "contourcarpet"
           }
          ],
          "heatmap": [
           {
            "colorbar": {
             "outlinewidth": 0,
             "ticks": ""
            },
            "colorscale": [
             [
              0,
              "#0d0887"
             ],
             [
              0.1111111111111111,
              "#46039f"
             ],
             [
              0.2222222222222222,
              "#7201a8"
             ],
             [
              0.3333333333333333,
              "#9c179e"
             ],
             [
              0.4444444444444444,
              "#bd3786"
             ],
             [
              0.5555555555555556,
              "#d8576b"
             ],
             [
              0.6666666666666666,
              "#ed7953"
             ],
             [
              0.7777777777777778,
              "#fb9f3a"
             ],
             [
              0.8888888888888888,
              "#fdca26"
             ],
             [
              1,
              "#f0f921"
             ]
            ],
            "type": "heatmap"
           }
          ],
          "heatmapgl": [
           {
            "colorbar": {
             "outlinewidth": 0,
             "ticks": ""
            },
            "colorscale": [
             [
              0,
              "#0d0887"
             ],
             [
              0.1111111111111111,
              "#46039f"
             ],
             [
              0.2222222222222222,
              "#7201a8"
             ],
             [
              0.3333333333333333,
              "#9c179e"
             ],
             [
              0.4444444444444444,
              "#bd3786"
             ],
             [
              0.5555555555555556,
              "#d8576b"
             ],
             [
              0.6666666666666666,
              "#ed7953"
             ],
             [
              0.7777777777777778,
              "#fb9f3a"
             ],
             [
              0.8888888888888888,
              "#fdca26"
             ],
             [
              1,
              "#f0f921"
             ]
            ],
            "type": "heatmapgl"
           }
          ],
          "histogram": [
           {
            "marker": {
             "pattern": {
              "fillmode": "overlay",
              "size": 10,
              "solidity": 0.2
             }
            },
            "type": "histogram"
           }
          ],
          "histogram2d": [
           {
            "colorbar": {
             "outlinewidth": 0,
             "ticks": ""
            },
            "colorscale": [
             [
              0,
              "#0d0887"
             ],
             [
              0.1111111111111111,
              "#46039f"
             ],
             [
              0.2222222222222222,
              "#7201a8"
             ],
             [
              0.3333333333333333,
              "#9c179e"
             ],
             [
              0.4444444444444444,
              "#bd3786"
             ],
             [
              0.5555555555555556,
              "#d8576b"
             ],
             [
              0.6666666666666666,
              "#ed7953"
             ],
             [
              0.7777777777777778,
              "#fb9f3a"
             ],
             [
              0.8888888888888888,
              "#fdca26"
             ],
             [
              1,
              "#f0f921"
             ]
            ],
            "type": "histogram2d"
           }
          ],
          "histogram2dcontour": [
           {
            "colorbar": {
             "outlinewidth": 0,
             "ticks": ""
            },
            "colorscale": [
             [
              0,
              "#0d0887"
             ],
             [
              0.1111111111111111,
              "#46039f"
             ],
             [
              0.2222222222222222,
              "#7201a8"
             ],
             [
              0.3333333333333333,
              "#9c179e"
             ],
             [
              0.4444444444444444,
              "#bd3786"
             ],
             [
              0.5555555555555556,
              "#d8576b"
             ],
             [
              0.6666666666666666,
              "#ed7953"
             ],
             [
              0.7777777777777778,
              "#fb9f3a"
             ],
             [
              0.8888888888888888,
              "#fdca26"
             ],
             [
              1,
              "#f0f921"
             ]
            ],
            "type": "histogram2dcontour"
           }
          ],
          "mesh3d": [
           {
            "colorbar": {
             "outlinewidth": 0,
             "ticks": ""
            },
            "type": "mesh3d"
           }
          ],
          "parcoords": [
           {
            "line": {
             "colorbar": {
              "outlinewidth": 0,
              "ticks": ""
             }
            },
            "type": "parcoords"
           }
          ],
          "pie": [
           {
            "automargin": true,
            "type": "pie"
           }
          ],
          "scatter": [
           {
            "fillpattern": {
             "fillmode": "overlay",
             "size": 10,
             "solidity": 0.2
            },
            "type": "scatter"
           }
          ],
          "scatter3d": [
           {
            "line": {
             "colorbar": {
              "outlinewidth": 0,
              "ticks": ""
             }
            },
            "marker": {
             "colorbar": {
              "outlinewidth": 0,
              "ticks": ""
             }
            },
            "type": "scatter3d"
           }
          ],
          "scattercarpet": [
           {
            "marker": {
             "colorbar": {
              "outlinewidth": 0,
              "ticks": ""
             }
            },
            "type": "scattercarpet"
           }
          ],
          "scattergeo": [
           {
            "marker": {
             "colorbar": {
              "outlinewidth": 0,
              "ticks": ""
             }
            },
            "type": "scattergeo"
           }
          ],
          "scattergl": [
           {
            "marker": {
             "colorbar": {
              "outlinewidth": 0,
              "ticks": ""
             }
            },
            "type": "scattergl"
           }
          ],
          "scattermapbox": [
           {
            "marker": {
             "colorbar": {
              "outlinewidth": 0,
              "ticks": ""
             }
            },
            "type": "scattermapbox"
           }
          ],
          "scatterpolar": [
           {
            "marker": {
             "colorbar": {
              "outlinewidth": 0,
              "ticks": ""
             }
            },
            "type": "scatterpolar"
           }
          ],
          "scatterpolargl": [
           {
            "marker": {
             "colorbar": {
              "outlinewidth": 0,
              "ticks": ""
             }
            },
            "type": "scatterpolargl"
           }
          ],
          "scatterternary": [
           {
            "marker": {
             "colorbar": {
              "outlinewidth": 0,
              "ticks": ""
             }
            },
            "type": "scatterternary"
           }
          ],
          "surface": [
           {
            "colorbar": {
             "outlinewidth": 0,
             "ticks": ""
            },
            "colorscale": [
             [
              0,
              "#0d0887"
             ],
             [
              0.1111111111111111,
              "#46039f"
             ],
             [
              0.2222222222222222,
              "#7201a8"
             ],
             [
              0.3333333333333333,
              "#9c179e"
             ],
             [
              0.4444444444444444,
              "#bd3786"
             ],
             [
              0.5555555555555556,
              "#d8576b"
             ],
             [
              0.6666666666666666,
              "#ed7953"
             ],
             [
              0.7777777777777778,
              "#fb9f3a"
             ],
             [
              0.8888888888888888,
              "#fdca26"
             ],
             [
              1,
              "#f0f921"
             ]
            ],
            "type": "surface"
           }
          ],
          "table": [
           {
            "cells": {
             "fill": {
              "color": "#EBF0F8"
             },
             "line": {
              "color": "white"
             }
            },
            "header": {
             "fill": {
              "color": "#C8D4E3"
             },
             "line": {
              "color": "white"
             }
            },
            "type": "table"
           }
          ]
         },
         "layout": {
          "annotationdefaults": {
           "arrowcolor": "#2a3f5f",
           "arrowhead": 0,
           "arrowwidth": 1
          },
          "autotypenumbers": "strict",
          "coloraxis": {
           "colorbar": {
            "outlinewidth": 0,
            "ticks": ""
           }
          },
          "colorscale": {
           "diverging": [
            [
             0,
             "#8e0152"
            ],
            [
             0.1,
             "#c51b7d"
            ],
            [
             0.2,
             "#de77ae"
            ],
            [
             0.3,
             "#f1b6da"
            ],
            [
             0.4,
             "#fde0ef"
            ],
            [
             0.5,
             "#f7f7f7"
            ],
            [
             0.6,
             "#e6f5d0"
            ],
            [
             0.7,
             "#b8e186"
            ],
            [
             0.8,
             "#7fbc41"
            ],
            [
             0.9,
             "#4d9221"
            ],
            [
             1,
             "#276419"
            ]
           ],
           "sequential": [
            [
             0,
             "#0d0887"
            ],
            [
             0.1111111111111111,
             "#46039f"
            ],
            [
             0.2222222222222222,
             "#7201a8"
            ],
            [
             0.3333333333333333,
             "#9c179e"
            ],
            [
             0.4444444444444444,
             "#bd3786"
            ],
            [
             0.5555555555555556,
             "#d8576b"
            ],
            [
             0.6666666666666666,
             "#ed7953"
            ],
            [
             0.7777777777777778,
             "#fb9f3a"
            ],
            [
             0.8888888888888888,
             "#fdca26"
            ],
            [
             1,
             "#f0f921"
            ]
           ],
           "sequentialminus": [
            [
             0,
             "#0d0887"
            ],
            [
             0.1111111111111111,
             "#46039f"
            ],
            [
             0.2222222222222222,
             "#7201a8"
            ],
            [
             0.3333333333333333,
             "#9c179e"
            ],
            [
             0.4444444444444444,
             "#bd3786"
            ],
            [
             0.5555555555555556,
             "#d8576b"
            ],
            [
             0.6666666666666666,
             "#ed7953"
            ],
            [
             0.7777777777777778,
             "#fb9f3a"
            ],
            [
             0.8888888888888888,
             "#fdca26"
            ],
            [
             1,
             "#f0f921"
            ]
           ]
          },
          "colorway": [
           "#636efa",
           "#EF553B",
           "#00cc96",
           "#ab63fa",
           "#FFA15A",
           "#19d3f3",
           "#FF6692",
           "#B6E880",
           "#FF97FF",
           "#FECB52"
          ],
          "font": {
           "color": "#2a3f5f"
          },
          "geo": {
           "bgcolor": "white",
           "lakecolor": "white",
           "landcolor": "#E5ECF6",
           "showlakes": true,
           "showland": true,
           "subunitcolor": "white"
          },
          "hoverlabel": {
           "align": "left"
          },
          "hovermode": "closest",
          "mapbox": {
           "style": "light"
          },
          "paper_bgcolor": "white",
          "plot_bgcolor": "#E5ECF6",
          "polar": {
           "angularaxis": {
            "gridcolor": "white",
            "linecolor": "white",
            "ticks": ""
           },
           "bgcolor": "#E5ECF6",
           "radialaxis": {
            "gridcolor": "white",
            "linecolor": "white",
            "ticks": ""
           }
          },
          "scene": {
           "xaxis": {
            "backgroundcolor": "#E5ECF6",
            "gridcolor": "white",
            "gridwidth": 2,
            "linecolor": "white",
            "showbackground": true,
            "ticks": "",
            "zerolinecolor": "white"
           },
           "yaxis": {
            "backgroundcolor": "#E5ECF6",
            "gridcolor": "white",
            "gridwidth": 2,
            "linecolor": "white",
            "showbackground": true,
            "ticks": "",
            "zerolinecolor": "white"
           },
           "zaxis": {
            "backgroundcolor": "#E5ECF6",
            "gridcolor": "white",
            "gridwidth": 2,
            "linecolor": "white",
            "showbackground": true,
            "ticks": "",
            "zerolinecolor": "white"
           }
          },
          "shapedefaults": {
           "line": {
            "color": "#2a3f5f"
           }
          },
          "ternary": {
           "aaxis": {
            "gridcolor": "white",
            "linecolor": "white",
            "ticks": ""
           },
           "baxis": {
            "gridcolor": "white",
            "linecolor": "white",
            "ticks": ""
           },
           "bgcolor": "#E5ECF6",
           "caxis": {
            "gridcolor": "white",
            "linecolor": "white",
            "ticks": ""
           }
          },
          "title": {
           "x": 0.05
          },
          "xaxis": {
           "automargin": true,
           "gridcolor": "white",
           "linecolor": "white",
           "ticks": "",
           "title": {
            "standoff": 15
           },
           "zerolinecolor": "white",
           "zerolinewidth": 2
          },
          "yaxis": {
           "automargin": true,
           "gridcolor": "white",
           "linecolor": "white",
           "ticks": "",
           "title": {
            "standoff": 15
           },
           "zerolinecolor": "white",
           "zerolinewidth": 2
          }
         }
        }
       }
      },
      "text/html": [
       "<div>                            <div id=\"cdc71d12-b0e6-4d28-bc4b-5708dc52fcbe\" class=\"plotly-graph-div\" style=\"height:525px; width:100%;\"></div>            <script type=\"text/javascript\">                require([\"plotly\"], function(Plotly) {                    window.PLOTLYENV=window.PLOTLYENV || {};                                    if (document.getElementById(\"cdc71d12-b0e6-4d28-bc4b-5708dc52fcbe\")) {                    Plotly.newPlot(                        \"cdc71d12-b0e6-4d28-bc4b-5708dc52fcbe\",                        [{\"hovertemplate\":\"type=WeightedSum<br>logp=%{x}<br>qed=%{y}<br>sas=%{z}<extra></extra>\",\"legendgroup\":\"WeightedSum\",\"marker\":{\"color\":\"#636efa\",\"opacity\":1,\"symbol\":\"circle\"},\"mode\":\"markers\",\"name\":\"WeightedSum\",\"scene\":\"scene\",\"showlegend\":true,\"x\":[3.120800000000002,2.249000000000001,2.249000000000001,2.34,2.34,2.34,2.730700000000001,2.3406,1.8257,1.9505,1.9505,6.487600000000007,2.30344,2.30344,4.007000000000002,1.5604,1.5604,5.707400000000006,5.707400000000006,2.639100000000001,3.029200000000001,1.8892,4.537100000000004,4.537100000000004,3.809400000000003,3.492700000000002,3.9308000000000014,2.13412,2.13412,2.13412],\"y\":[0.4513755246594791,0.5147578217927745,0.5147578217927745,0.4833833263681997,0.4833833263681997,0.4833833263681997,0.4085406794096017,0.4223161868609467,0.4618403302914614,0.4083619292230275,0.4083619292230275,0.3149047241460033,0.475757685340321,0.475757685340321,0.6346172430604238,0.3948102303487917,0.3948102303487917,0.3731035838174364,0.3731035838174364,0.5624916701881997,0.595730956091163,0.5170467542625542,0.4526177505443085,0.4526177505443085,0.5774504107669273,0.6172445494970528,0.6924273342516304,0.4796017536231644,0.4796017536231644,0.4796017536231644],\"z\":[1.0,1.0,1.0,1.0,1.0,1.0,1.0,1.0,1.0,1.0,1.0,1.0945154774355943,1.0337432953498862,1.0337432953498862,1.0954863087132818,1.0,1.0,1.1247158094291532,1.1247158094291532,1.080414397758101,1.1049531863041595,1.0971092379947898,1.1945998623963092,1.1945998623963092,1.2094738691001456,1.2037814504136843,1.215091467493263,1.192665672972261,1.192665672972261,1.192665672972261],\"type\":\"scatter3d\"},{\"hovertemplate\":\"type=Random<br>logp=%{x}<br>qed=%{y}<br>sas=%{z}<extra></extra>\",\"legendgroup\":\"Random\",\"marker\":{\"color\":\"#EF553B\",\"opacity\":1,\"symbol\":\"circle\"},\"mode\":\"markers\",\"name\":\"Random\",\"scene\":\"scene\",\"showlegend\":true,\"x\":[3.9010000000000034,3.510900000000002,3.510900000000002,3.120800000000002,2.249000000000001,2.249000000000001,2.249000000000001,2.34,2.34,2.34,2.34,2.3406,2.3406,2.3406,1.99502,1.99502,1.99502,7.267800000000007,1.6952,1.8257,1.8257,1.8257,6.877700000000007,6.877700000000007,1.9505,1.9505,1.6866,1.6866,6.487600000000007,6.487600000000007],\"y\":[0.4784283369608236,0.4656551922109892,0.4656551922109892,0.4513755246594791,0.5147578217927745,0.5147578217927745,0.5147578217927745,0.4833833263681997,0.4833833263681997,0.4833833263681997,0.4833833263681997,0.4223161868609467,0.4223161868609467,0.4223161868609467,0.4588062796575454,0.4588062796575454,0.4588062796575454,0.2695410264515143,0.5316253154127668,0.4618403302914614,0.4618403302914614,0.4618403302914614,0.2903171596080645,0.2903171596080645,0.4083619292230275,0.4083619292230275,0.4426283718993647,0.4426283718993647,0.3149047241460033,0.3149047241460033],\"z\":[1.0,1.0,1.0,1.0,1.0,1.0,1.0,1.0,1.0,1.0,1.0,1.0,1.0,1.0,1.0,1.0,1.0,1.0745702467178884,1.0,1.0,1.0,1.0,1.08338186465377,1.08338186465377,1.0,1.0,1.0,1.0,1.0945154774355943,1.0945154774355943],\"type\":\"scatter3d\"},{\"hovertemplate\":\"type=Chimera<br>logp=%{x}<br>qed=%{y}<br>sas=%{z}<extra></extra>\",\"legendgroup\":\"Chimera\",\"marker\":{\"color\":\"#00cc96\",\"opacity\":1,\"symbol\":\"circle\"},\"mode\":\"markers\",\"name\":\"Chimera\",\"scene\":\"scene\",\"showlegend\":true,\"x\":[6.631700000000007,5.851500000000006,5.461400000000006,3.510900000000002,3.510900000000002,3.120800000000002,3.120800000000002,2.249000000000001,2.34,2.34,2.34,2.34,2.34,2.730700000000001,7.657900000000008,1.99502,7.267800000000007,1.8257,1.8257,9.608399999999998,1.9505,6.487600000000007,6.097500000000006,1.5604,1.5604,5.707400000000006,3.029200000000001,5.317300000000005,5.317300000000005,5.317300000000005],\"y\":[0.4439671311017442,0.4701222388823993,0.4822645994353039,0.4656551922109892,0.4656551922109892,0.4513755246594791,0.4513755246594791,0.5147578217927745,0.4833833263681997,0.4833833263681997,0.4833833263681997,0.4833833263681997,0.4833833263681997,0.4085406794096017,0.2520053119130528,0.4588062796575454,0.2695410264515143,0.4618403302914614,0.4618403302914614,0.1826494365002578,0.4083619292230275,0.3149047241460033,0.3429502160022288,0.3948102303487917,0.3948102303487917,0.3731035838174364,0.595730956091163,0.4031688486987215,0.4031688486987215,0.4031688486987215],\"z\":[1.0,1.0,1.0,1.0,1.0,1.0,1.0,1.0,1.0,1.0,1.0,1.0,1.0,1.0,1.0678786896002244,1.0,1.0745702467178884,1.0,1.0,1.0607451755714372,1.0,1.0945154774355943,1.1082036891143652,1.0,1.0,1.1247158094291532,1.1049531863041595,1.144365108313803,1.144365108313803,1.144365108313803],\"type\":\"scatter3d\"},{\"hovertemplate\":\"type=Hypervolume<br>logp=%{x}<br>qed=%{y}<br>sas=%{z}<extra></extra>\",\"legendgroup\":\"Hypervolume\",\"marker\":{\"color\":\"#ab63fa\",\"opacity\":1,\"symbol\":\"circle\"},\"mode\":\"markers\",\"name\":\"Hypervolume\",\"scene\":\"scene\",\"showlegend\":true,\"x\":[4.291100000000004,4.478000000000003,3.4718000000000018,4.660400000000002,4.660400000000002,2.249000000000001,2.249000000000001,2.249000000000001,2.34,2.34,2.34,2.34,1.99502,1.99502,1.99502,1.99502,1.6952,2.6484200000000007,2.6484200000000007,2.6484200000000007,1.8257,1.8257,1.8257,1.6866,2.30344,4.007000000000002,4.007000000000002,2.3486,2.3486,2.3486],\"y\":[0.4879788266128645,0.6450664913328847,0.6814602021498524,0.658951175302544,0.658951175302544,0.5147578217927745,0.5147578217927745,0.5147578217927745,0.4833833263681997,0.4833833263681997,0.4833833263681997,0.4833833263681997,0.4588062796575454,0.4588062796575454,0.4588062796575454,0.4588062796575454,0.5316253154127668,0.5015016660067645,0.5015016660067645,0.5015016660067645,0.4618403302914614,0.4618403302914614,0.4618403302914614,0.4426283718993647,0.475757685340321,0.6346172430604238,0.6346172430604238,0.5850627747795067,0.5850627747795067,0.5850627747795067],\"z\":[1.0,1.0389840613344568,1.014182862295245,1.0529260848189068,1.0529260848189068,1.0,1.0,1.0,1.0,1.0,1.0,1.0,1.0,1.0,1.0,1.0,1.0,1.033862875769465,1.033862875769465,1.033862875769465,1.0,1.0,1.0,1.0,1.0337432953498862,1.0954863087132818,1.0954863087132818,1.0490464687640184,1.0490464687640184,1.0490464687640184],\"type\":\"scatter3d\"},{\"hovertemplate\":\"type=Utopian point<br>logp=%{x}<br>qed=%{y}<br>sas=%{z}<extra></extra>\",\"legendgroup\":\"Utopian point\",\"marker\":{\"color\":\"#FFA15A\",\"opacity\":1,\"symbol\":\"circle\"},\"mode\":\"markers\",\"name\":\"Utopian point\",\"scene\":\"scene\",\"showlegend\":true,\"x\":[10.0],\"y\":[0.6],\"z\":[0.5],\"type\":\"scatter3d\"},{\"hovertemplate\":\"type=Zinc<br>logp=%{x}<br>qed=%{y}<br>sas=%{z}<extra></extra>\",\"legendgroup\":\"Zinc\",\"marker\":{\"color\":\"#19d3f3\",\"opacity\":1,\"symbol\":\"circle\"},\"mode\":\"markers\",\"name\":\"Zinc\",\"scene\":\"scene\",\"showlegend\":true,\"x\":[4.252,3.0780000000000003,3.4034,3.5189,3.63902,3.4388,3.0866,3.71,3.6009,3.984,2.9561,4.8934,4.00662,3.9113,4.1699,4.4519,4.2414,3.9234,3.9577,4.7398,3.9926,4.0709,5.039619999999998,4.1264,4.11452,4.2091400000000005,4.2638,4.4908,3.90932,4.8991],\"y\":[0.620865231506,0.809129509593,0.7165877827079999,0.636107590257,0.7849617925319999,0.800070636581,0.890869361991,0.912217856344,0.8937013620700001,0.797875017056,0.906985139765,0.611654327689,0.675134933203,0.8567875264899999,0.7064846767149999,0.673864232604,0.741751445405,0.8762250285780001,0.8445297314899999,0.706001852293,0.859080835446,0.8746726911480001,0.7029017415909999,0.752299181753,0.767402957624,0.8259282395280001,0.8648175406,0.735280403311,0.8916817014280001,0.803335264047],\"z\":[1.1327382804544328,1.2235581743449906,1.2530808111116087,1.2958021948919995,1.3013573196741497,1.321876475447274,1.3201303581186128,1.3350000413765295,1.3333819418290194,1.3458684656710105,1.3320694563450302,1.391242600331978,1.3776111972251712,1.3776914614948732,1.395841724753396,1.4033949131714003,1.4019909046414814,1.3987656522362588,1.4290686822763323,1.443018298495513,1.4337361230116965,1.448642993193635,1.4652853527671734,1.453620060483459,1.4613339780281152,1.4691028106073,1.4739584124172538,1.4882260014175248,1.4802367519425133,1.4948594259919157],\"type\":\"scatter3d\"}],                        {\"template\":{\"data\":{\"histogram2dcontour\":[{\"type\":\"histogram2dcontour\",\"colorbar\":{\"outlinewidth\":0,\"ticks\":\"\"},\"colorscale\":[[0.0,\"#0d0887\"],[0.1111111111111111,\"#46039f\"],[0.2222222222222222,\"#7201a8\"],[0.3333333333333333,\"#9c179e\"],[0.4444444444444444,\"#bd3786\"],[0.5555555555555556,\"#d8576b\"],[0.6666666666666666,\"#ed7953\"],[0.7777777777777778,\"#fb9f3a\"],[0.8888888888888888,\"#fdca26\"],[1.0,\"#f0f921\"]]}],\"choropleth\":[{\"type\":\"choropleth\",\"colorbar\":{\"outlinewidth\":0,\"ticks\":\"\"}}],\"histogram2d\":[{\"type\":\"histogram2d\",\"colorbar\":{\"outlinewidth\":0,\"ticks\":\"\"},\"colorscale\":[[0.0,\"#0d0887\"],[0.1111111111111111,\"#46039f\"],[0.2222222222222222,\"#7201a8\"],[0.3333333333333333,\"#9c179e\"],[0.4444444444444444,\"#bd3786\"],[0.5555555555555556,\"#d8576b\"],[0.6666666666666666,\"#ed7953\"],[0.7777777777777778,\"#fb9f3a\"],[0.8888888888888888,\"#fdca26\"],[1.0,\"#f0f921\"]]}],\"heatmap\":[{\"type\":\"heatmap\",\"colorbar\":{\"outlinewidth\":0,\"ticks\":\"\"},\"colorscale\":[[0.0,\"#0d0887\"],[0.1111111111111111,\"#46039f\"],[0.2222222222222222,\"#7201a8\"],[0.3333333333333333,\"#9c179e\"],[0.4444444444444444,\"#bd3786\"],[0.5555555555555556,\"#d8576b\"],[0.6666666666666666,\"#ed7953\"],[0.7777777777777778,\"#fb9f3a\"],[0.8888888888888888,\"#fdca26\"],[1.0,\"#f0f921\"]]}],\"heatmapgl\":[{\"type\":\"heatmapgl\",\"colorbar\":{\"outlinewidth\":0,\"ticks\":\"\"},\"colorscale\":[[0.0,\"#0d0887\"],[0.1111111111111111,\"#46039f\"],[0.2222222222222222,\"#7201a8\"],[0.3333333333333333,\"#9c179e\"],[0.4444444444444444,\"#bd3786\"],[0.5555555555555556,\"#d8576b\"],[0.6666666666666666,\"#ed7953\"],[0.7777777777777778,\"#fb9f3a\"],[0.8888888888888888,\"#fdca26\"],[1.0,\"#f0f921\"]]}],\"contourcarpet\":[{\"type\":\"contourcarpet\",\"colorbar\":{\"outlinewidth\":0,\"ticks\":\"\"}}],\"contour\":[{\"type\":\"contour\",\"colorbar\":{\"outlinewidth\":0,\"ticks\":\"\"},\"colorscale\":[[0.0,\"#0d0887\"],[0.1111111111111111,\"#46039f\"],[0.2222222222222222,\"#7201a8\"],[0.3333333333333333,\"#9c179e\"],[0.4444444444444444,\"#bd3786\"],[0.5555555555555556,\"#d8576b\"],[0.6666666666666666,\"#ed7953\"],[0.7777777777777778,\"#fb9f3a\"],[0.8888888888888888,\"#fdca26\"],[1.0,\"#f0f921\"]]}],\"surface\":[{\"type\":\"surface\",\"colorbar\":{\"outlinewidth\":0,\"ticks\":\"\"},\"colorscale\":[[0.0,\"#0d0887\"],[0.1111111111111111,\"#46039f\"],[0.2222222222222222,\"#7201a8\"],[0.3333333333333333,\"#9c179e\"],[0.4444444444444444,\"#bd3786\"],[0.5555555555555556,\"#d8576b\"],[0.6666666666666666,\"#ed7953\"],[0.7777777777777778,\"#fb9f3a\"],[0.8888888888888888,\"#fdca26\"],[1.0,\"#f0f921\"]]}],\"mesh3d\":[{\"type\":\"mesh3d\",\"colorbar\":{\"outlinewidth\":0,\"ticks\":\"\"}}],\"scatter\":[{\"fillpattern\":{\"fillmode\":\"overlay\",\"size\":10,\"solidity\":0.2},\"type\":\"scatter\"}],\"parcoords\":[{\"type\":\"parcoords\",\"line\":{\"colorbar\":{\"outlinewidth\":0,\"ticks\":\"\"}}}],\"scatterpolargl\":[{\"type\":\"scatterpolargl\",\"marker\":{\"colorbar\":{\"outlinewidth\":0,\"ticks\":\"\"}}}],\"bar\":[{\"error_x\":{\"color\":\"#2a3f5f\"},\"error_y\":{\"color\":\"#2a3f5f\"},\"marker\":{\"line\":{\"color\":\"#E5ECF6\",\"width\":0.5},\"pattern\":{\"fillmode\":\"overlay\",\"size\":10,\"solidity\":0.2}},\"type\":\"bar\"}],\"scattergeo\":[{\"type\":\"scattergeo\",\"marker\":{\"colorbar\":{\"outlinewidth\":0,\"ticks\":\"\"}}}],\"scatterpolar\":[{\"type\":\"scatterpolar\",\"marker\":{\"colorbar\":{\"outlinewidth\":0,\"ticks\":\"\"}}}],\"histogram\":[{\"marker\":{\"pattern\":{\"fillmode\":\"overlay\",\"size\":10,\"solidity\":0.2}},\"type\":\"histogram\"}],\"scattergl\":[{\"type\":\"scattergl\",\"marker\":{\"colorbar\":{\"outlinewidth\":0,\"ticks\":\"\"}}}],\"scatter3d\":[{\"type\":\"scatter3d\",\"line\":{\"colorbar\":{\"outlinewidth\":0,\"ticks\":\"\"}},\"marker\":{\"colorbar\":{\"outlinewidth\":0,\"ticks\":\"\"}}}],\"scattermapbox\":[{\"type\":\"scattermapbox\",\"marker\":{\"colorbar\":{\"outlinewidth\":0,\"ticks\":\"\"}}}],\"scatterternary\":[{\"type\":\"scatterternary\",\"marker\":{\"colorbar\":{\"outlinewidth\":0,\"ticks\":\"\"}}}],\"scattercarpet\":[{\"type\":\"scattercarpet\",\"marker\":{\"colorbar\":{\"outlinewidth\":0,\"ticks\":\"\"}}}],\"carpet\":[{\"aaxis\":{\"endlinecolor\":\"#2a3f5f\",\"gridcolor\":\"white\",\"linecolor\":\"white\",\"minorgridcolor\":\"white\",\"startlinecolor\":\"#2a3f5f\"},\"baxis\":{\"endlinecolor\":\"#2a3f5f\",\"gridcolor\":\"white\",\"linecolor\":\"white\",\"minorgridcolor\":\"white\",\"startlinecolor\":\"#2a3f5f\"},\"type\":\"carpet\"}],\"table\":[{\"cells\":{\"fill\":{\"color\":\"#EBF0F8\"},\"line\":{\"color\":\"white\"}},\"header\":{\"fill\":{\"color\":\"#C8D4E3\"},\"line\":{\"color\":\"white\"}},\"type\":\"table\"}],\"barpolar\":[{\"marker\":{\"line\":{\"color\":\"#E5ECF6\",\"width\":0.5},\"pattern\":{\"fillmode\":\"overlay\",\"size\":10,\"solidity\":0.2}},\"type\":\"barpolar\"}],\"pie\":[{\"automargin\":true,\"type\":\"pie\"}]},\"layout\":{\"autotypenumbers\":\"strict\",\"colorway\":[\"#636efa\",\"#EF553B\",\"#00cc96\",\"#ab63fa\",\"#FFA15A\",\"#19d3f3\",\"#FF6692\",\"#B6E880\",\"#FF97FF\",\"#FECB52\"],\"font\":{\"color\":\"#2a3f5f\"},\"hovermode\":\"closest\",\"hoverlabel\":{\"align\":\"left\"},\"paper_bgcolor\":\"white\",\"plot_bgcolor\":\"#E5ECF6\",\"polar\":{\"bgcolor\":\"#E5ECF6\",\"angularaxis\":{\"gridcolor\":\"white\",\"linecolor\":\"white\",\"ticks\":\"\"},\"radialaxis\":{\"gridcolor\":\"white\",\"linecolor\":\"white\",\"ticks\":\"\"}},\"ternary\":{\"bgcolor\":\"#E5ECF6\",\"aaxis\":{\"gridcolor\":\"white\",\"linecolor\":\"white\",\"ticks\":\"\"},\"baxis\":{\"gridcolor\":\"white\",\"linecolor\":\"white\",\"ticks\":\"\"},\"caxis\":{\"gridcolor\":\"white\",\"linecolor\":\"white\",\"ticks\":\"\"}},\"coloraxis\":{\"colorbar\":{\"outlinewidth\":0,\"ticks\":\"\"}},\"colorscale\":{\"sequential\":[[0.0,\"#0d0887\"],[0.1111111111111111,\"#46039f\"],[0.2222222222222222,\"#7201a8\"],[0.3333333333333333,\"#9c179e\"],[0.4444444444444444,\"#bd3786\"],[0.5555555555555556,\"#d8576b\"],[0.6666666666666666,\"#ed7953\"],[0.7777777777777778,\"#fb9f3a\"],[0.8888888888888888,\"#fdca26\"],[1.0,\"#f0f921\"]],\"sequentialminus\":[[0.0,\"#0d0887\"],[0.1111111111111111,\"#46039f\"],[0.2222222222222222,\"#7201a8\"],[0.3333333333333333,\"#9c179e\"],[0.4444444444444444,\"#bd3786\"],[0.5555555555555556,\"#d8576b\"],[0.6666666666666666,\"#ed7953\"],[0.7777777777777778,\"#fb9f3a\"],[0.8888888888888888,\"#fdca26\"],[1.0,\"#f0f921\"]],\"diverging\":[[0,\"#8e0152\"],[0.1,\"#c51b7d\"],[0.2,\"#de77ae\"],[0.3,\"#f1b6da\"],[0.4,\"#fde0ef\"],[0.5,\"#f7f7f7\"],[0.6,\"#e6f5d0\"],[0.7,\"#b8e186\"],[0.8,\"#7fbc41\"],[0.9,\"#4d9221\"],[1,\"#276419\"]]},\"xaxis\":{\"gridcolor\":\"white\",\"linecolor\":\"white\",\"ticks\":\"\",\"title\":{\"standoff\":15},\"zerolinecolor\":\"white\",\"automargin\":true,\"zerolinewidth\":2},\"yaxis\":{\"gridcolor\":\"white\",\"linecolor\":\"white\",\"ticks\":\"\",\"title\":{\"standoff\":15},\"zerolinecolor\":\"white\",\"automargin\":true,\"zerolinewidth\":2},\"scene\":{\"xaxis\":{\"backgroundcolor\":\"#E5ECF6\",\"gridcolor\":\"white\",\"linecolor\":\"white\",\"showbackground\":true,\"ticks\":\"\",\"zerolinecolor\":\"white\",\"gridwidth\":2},\"yaxis\":{\"backgroundcolor\":\"#E5ECF6\",\"gridcolor\":\"white\",\"linecolor\":\"white\",\"showbackground\":true,\"ticks\":\"\",\"zerolinecolor\":\"white\",\"gridwidth\":2},\"zaxis\":{\"backgroundcolor\":\"#E5ECF6\",\"gridcolor\":\"white\",\"linecolor\":\"white\",\"showbackground\":true,\"ticks\":\"\",\"zerolinecolor\":\"white\",\"gridwidth\":2}},\"shapedefaults\":{\"line\":{\"color\":\"#2a3f5f\"}},\"annotationdefaults\":{\"arrowcolor\":\"#2a3f5f\",\"arrowhead\":0,\"arrowwidth\":1},\"geo\":{\"bgcolor\":\"white\",\"landcolor\":\"#E5ECF6\",\"subunitcolor\":\"white\",\"showland\":true,\"showlakes\":true,\"lakecolor\":\"white\"},\"title\":{\"x\":0.05},\"mapbox\":{\"style\":\"light\"}}},\"scene\":{\"domain\":{\"x\":[0.0,1.0],\"y\":[0.0,1.0]},\"xaxis\":{\"title\":{\"text\":\"logp\"}},\"yaxis\":{\"title\":{\"text\":\"qed\"}},\"zaxis\":{\"title\":{\"text\":\"sas\"}}},\"legend\":{\"title\":{\"text\":\"type\"},\"tracegroupgap\":0},\"margin\":{\"t\":60}},                        {\"responsive\": true}                    ).then(function(){\n",
       "                            \n",
       "var gd = document.getElementById('cdc71d12-b0e6-4d28-bc4b-5708dc52fcbe');\n",
       "var x = new MutationObserver(function (mutations, observer) {{\n",
       "        var display = window.getComputedStyle(gd).display;\n",
       "        if (!display || display === 'none') {{\n",
       "            console.log([gd, 'removed!']);\n",
       "            Plotly.purge(gd);\n",
       "            observer.disconnect();\n",
       "        }}\n",
       "}});\n",
       "\n",
       "// Listen for the removal of the full notebook cells\n",
       "var notebookContainer = gd.closest('#notebook-container');\n",
       "if (notebookContainer) {{\n",
       "    x.observe(notebookContainer, {childList: true});\n",
       "}}\n",
       "\n",
       "// Listen for the clearing of the current output cell\n",
       "var outputEl = gd.closest('.output');\n",
       "if (outputEl) {{\n",
       "    x.observe(outputEl, {childList: true});\n",
       "}}\n",
       "\n",
       "                        })                };                });            </script>        </div>"
      ]
     },
     "metadata": {},
     "output_type": "display_data"
    }
   ],
   "source": [
    "df = {}\n",
    "df['qed'] = np.concatenate((ctrl_three[0],random_three[0],chim_three[0],hv_three[0]))\n",
    "df['logp'] = np.concatenate((ctrl_three[1],random_three[1],chim_three[1],hv_three[1]))\n",
    "df['sas'] = np.concatenate((ctrl_three[2],random_three[2],chim_three[2],hv_three[2]))\n",
    "df['type'] = np.concatenate((['WeightedSum']*30,['Random']*30,['Chimera']*30,['Hypervolume']*30))\n",
    "# %%\n",
    "utop_df = {}\n",
    "utop_df['qed'] = [0.6]\n",
    "utop_df['logp'] = [10]\n",
    "utop_df['sas'] = [0.5]\n",
    "utop_df['type'] = ['Utopian point']\n",
    "# %%\n",
    "pareto_df = {}\n",
    "pareto_df['qed'] = zinc_pareto[0]\n",
    "pareto_df['logp'] = zinc_pareto[1]\n",
    "pareto_df['sas'] = zinc_pareto[2]\n",
    "pareto_df['type'] = ['Zinc'] * 30\n",
    "# %%\n",
    "ml_df = pd.DataFrame(df)\n",
    "u_df = pd.DataFrame(utop_df)\n",
    "p_df = pd.DataFrame(pareto_df)\n",
    "# %%\n",
    "all_df = pd.concat([ml_df,u_df,p_df])\n",
    "fig = px.scatter_3d(all_df, x='logp', y='qed', z='sas', color='type',opacity = 1)\n",
    "fig.show()"
   ]
  },
  {
   "cell_type": "code",
   "execution_count": null,
   "id": "868cdb78",
   "metadata": {},
   "outputs": [],
   "source": []
  }
 ],
 "metadata": {
  "kernelspec": {
   "display_name": "Python 3 (ipykernel)",
   "language": "python",
   "name": "python3"
  },
  "language_info": {
   "codemirror_mode": {
    "name": "ipython",
    "version": 3
   },
   "file_extension": ".py",
   "mimetype": "text/x-python",
   "name": "python",
   "nbconvert_exporter": "python",
   "pygments_lexer": "ipython3",
   "version": "3.10.4"
  }
 },
 "nbformat": 4,
 "nbformat_minor": 5
}
